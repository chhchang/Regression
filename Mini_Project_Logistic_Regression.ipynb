http://localhost:8888/files/Desktop/Springboard/Machine%20Learning/Projects/logistic_regression/images/onelinesplit.png
